{
 "cells": [
  {
   "cell_type": "markdown",
   "id": "29d2c603",
   "metadata": {},
   "source": [
    "--------------------Imports---------------------------"
   ]
  },
  {
   "cell_type": "code",
   "execution_count": 151,
   "id": "897c0479",
   "metadata": {},
   "outputs": [],
   "source": [
    "from PIL import Image\n",
    "import numpy as np\n",
    "import pandas as pd\n",
    "import math\n",
    "import statistics"
   ]
  },
  {
   "cell_type": "markdown",
   "id": "636184bb",
   "metadata": {},
   "source": [
    "----------------------------Managing Data--------------------------------"
   ]
  },
  {
   "cell_type": "markdown",
   "id": "dbe579c1",
   "metadata": {},
   "source": [
    "img = Image.open('sample.jfif')\n",
    "#<img src = \"sample.jfif\"/>"
   ]
  },
  {
   "cell_type": "code",
   "execution_count": 153,
   "id": "506ba109",
   "metadata": {},
   "outputs": [
    {
     "name": "stdout",
     "output_type": "stream",
     "text": [
      "(177, 284, 3)\n",
      "[[[255 255 255]\n",
      "  [255 255 255]\n",
      "  [255 255 255]\n",
      "  ...\n",
      "  [185 151 178]\n",
      "  [189 155 182]\n",
      "  [196 163 190]]\n",
      "\n",
      " [[255 255 255]\n",
      "  [255 255 255]\n",
      "  [255 255 255]\n",
      "  ...\n",
      "  [185 151 178]\n",
      "  [189 155 182]\n",
      "  [196 163 190]]\n",
      "\n",
      " [[255 255 255]\n",
      "  [255 255 255]\n",
      "  [255 255 255]\n",
      "  ...\n",
      "  [185 151 178]\n",
      "  [189 155 182]\n",
      "  [196 163 190]]\n",
      "\n",
      " ...\n",
      "\n",
      " [[242  27  86]\n",
      "  [242  27  86]\n",
      "  [242  27  86]\n",
      "  ...\n",
      "  [  1   1   1]\n",
      "  [  0   0   0]\n",
      "  [ 60  60  60]]\n",
      "\n",
      " [[242  27  86]\n",
      "  [242  27  86]\n",
      "  [242  27  86]\n",
      "  ...\n",
      "  [  1   1   1]\n",
      "  [  0   0   0]\n",
      "  [ 60  60  60]]\n",
      "\n",
      " [[222  73 113]\n",
      "  [222  73 113]\n",
      "  [222  73 113]\n",
      "  ...\n",
      "  [ 60  60  60]\n",
      "  [ 61  61  61]\n",
      "  [ 95  95  95]]]\n"
     ]
    }
   ],
   "source": [
    "imgdata = np.asarray(img)\n",
    "\n",
    "print(imgdata.shape)\n",
    "print(imgdata)"
   ]
  },
  {
   "cell_type": "code",
   "execution_count": 154,
   "id": "17ef3962",
   "metadata": {},
   "outputs": [
    {
     "name": "stdout",
     "output_type": "stream",
     "text": [
      "(531, 284)\n",
      "[[255 255 255 ...  23 255 173]\n",
      " [ 10 250 179 ...  54 104 240]\n",
      " [ 54 104 240 ... 196 163 190]\n",
      " ...\n",
      " [222  73 113 ... 197 215 176]\n",
      " [197 215 176 ... 131 132  97]\n",
      " [131 132  97 ...  95  95  95]]\n"
     ]
    }
   ],
   "source": [
    "newarr = imgdata.reshape(177*3,284)\n",
    "print(newarr.shape)\n",
    "print(newarr)"
   ]
  },
  {
   "cell_type": "code",
   "execution_count": 155,
   "id": "0db62e17",
   "metadata": {},
   "outputs": [
    {
     "name": "stdout",
     "output_type": "stream",
     "text": [
      "[255, 255, 255, 255, 255, 255, 255, 255, 255, 255, 255, 255, 255, 255, 255, 255, 255, 255, 255, 255, 255, 255, 255, 255, 255, 255, 255, 255, 255, 255, 255, 255, 255, 255, 255, 255, 255, 255, 255, 255, 255, 255, 255, 255, 255, 255, 255, 255, 255, 253, 255, 255, 254, 241, 255, 254, 223, 253, 254, 214, 254, 251, 218, 255, 250, 221, 255, 252, 220, 255, 254, 216, 255, 253, 220, 255, 253, 220, 255, 253, 220, 255, 253, 220, 255, 253, 220, 255, 253, 220, 255, 253, 220, 255, 253, 220, 253, 252, 221, 255, 255, 224, 255, 251, 215, 252, 241, 185, 248, 235, 156, 251, 235, 140, 255, 234, 141, 255, 231, 146, 255, 233, 147, 255, 233, 147, 255, 233, 147, 255, 233, 147, 255, 233, 147, 255, 233, 147, 255, 233, 147, 255, 233, 147, 255, 236, 144, 255, 236, 149, 250, 232, 148, 253, 232, 149, 255, 234, 146, 252, 224, 127, 249, 216, 109, 255, 222, 108, 255, 218, 109, 255, 218, 109, 255, 218, 109, 255, 218, 109, 255, 218, 109, 255, 218, 109, 255, 218, 109, 255, 218, 109, 255, 217, 109, 255, 220, 111, 253, 217, 107, 253, 221, 110, 250, 218, 107, 253, 217, 107, 255, 219, 110, 243, 201, 93, 255, 196, 78, 255, 196, 78, 255, 196, 78, 255, 196, 78, 255, 196, 78, 255, 196, 78, 255, 196, 78, 255, 196, 78, 255, 196, 78, 255, 196, 78, 255, 196, 78, 255, 196, 78, 255, 196, 78, 255, 196, 78, 255, 196, 78, 255, 196, 78, 242, 199, 97, 250, 181, 2, 255, 171, 24, 250, 175, 24, 242, 179, 3, 255, 174]\n"
     ]
    }
   ],
   "source": [
    "list1=[]\n",
    "for i in range(0,281):\n",
    "    list1.append(newarr[0][i])\n",
    "print(list1)"
   ]
  },
  {
   "cell_type": "code",
   "execution_count": 156,
   "id": "1a737b50",
   "metadata": {},
   "outputs": [
    {
     "name": "stdout",
     "output_type": "stream",
     "text": [
      "[10, 250, 179, 25, 253, 176, 18, 253, 176, 18, 253, 176, 18, 253, 176, 18, 253, 176, 18, 253, 176, 18, 253, 176, 18, 253, 176, 18, 255, 178, 24, 242, 176, 17, 230, 178, 68, 253, 136, 40, 246, 145, 41, 255, 137, 55, 236, 153, 31, 251, 139, 53, 247, 143, 44, 247, 143, 44, 247, 143, 44, 247, 143, 44, 247, 143, 44, 247, 143, 44, 247, 143, 44, 247, 143, 44, 241, 145, 45, 255, 143, 46, 250, 140, 43, 239, 150, 60, 235, 138, 70, 242, 112, 63, 252, 112, 61, 243, 119, 55, 244, 115, 58, 244, 115, 58, 244, 115, 58, 244, 115, 58, 244, 115, 58, 244, 115, 58, 244, 115, 58, 244, 115, 58, 239, 119, 59, 255, 110, 57, 235, 120, 55, 242, 111, 55, 238, 116, 65, 241, 136, 91, 242, 86, 73, 239, 88, 81, 240, 86, 74, 240, 86, 74, 240, 86, 74, 240, 86, 74, 240, 86, 74, 240, 86, 74, 240, 86, 74, 240, 86, 74, 236, 90, 77, 245, 82, 73, 245, 85, 73, 235, 92, 75, 238, 88, 74, 246, 78, 77, 238, 88, 87, 221, 110, 99, 241, 28, 86, 240, 28, 86, 240, 28, 86, 239, 30, 87, 239, 30, 87, 238, 31, 87, 239, 32, 88, 237, 32, 88, 239, 30, 87, 239, 30, 87, 239, 30, 87, 239, 30, 87, 239, 30, 87, 239, 30, 87, 239, 30, 87, 239, 30, 87, 242, 24, 85, 212, 87, 117, 239, 46, 99, 236, 56, 104, 246, 49, 103, 237, 55, 104, 240, 54, 104, 236, 52, 102, 240, 54, 104, 240, 54, 104, 240, 54, 104, 240, 54, 104, 240]\n"
     ]
    }
   ],
   "source": [
    "list2=[]\n",
    "for i in range(0,281):\n",
    "    list2.append(newarr[1][i])\n",
    "print(list2)"
   ]
  },
  {
   "cell_type": "code",
   "execution_count": 157,
   "id": "918c78bd",
   "metadata": {},
   "outputs": [
    {
     "name": "stdout",
     "output_type": "stream",
     "text": [
      "     random_1  random_2\n",
      "0         255        10\n",
      "1         255       250\n",
      "2         255       179\n",
      "3         255        25\n",
      "4         255       253\n",
      "..        ...       ...\n",
      "276       242       104\n",
      "277       179       240\n",
      "278         3        54\n",
      "279       255       104\n",
      "280       174       240\n",
      "\n",
      "[281 rows x 2 columns]\n"
     ]
    }
   ],
   "source": [
    "arr=[]\n",
    "arr.append(list1)\n",
    "arr.append(list2)\n",
    "\n",
    "finalarr=np.transpose(arr)\n",
    "\n",
    "df = pd.DataFrame(finalarr, columns=['random_1', 'random_2'])\n",
    "print(df)"
   ]
  },
  {
   "cell_type": "markdown",
   "id": "f6e6392a",
   "metadata": {},
   "source": [
    "----------------------------Functions--------------------------------"
   ]
  },
  {
   "cell_type": "code",
   "execution_count": 158,
   "id": "18640d70",
   "metadata": {},
   "outputs": [],
   "source": [
    "def mean(list):\n",
    "    sum = 0\n",
    "    count = 0 \n",
    "    for i in range(0,281):\n",
    "        sum = sum + list[i]\n",
    "        count = count + 1\n",
    "    mean = sum/count\n",
    "    return mean"
   ]
  },
  {
   "cell_type": "code",
   "execution_count": 159,
   "id": "198a0b12",
   "metadata": {},
   "outputs": [],
   "source": [
    "def median(list):\n",
    "    l=len(list)\n",
    "    sortedlist = sorted(list)\n",
    "    median = 0\n",
    "    if l%2==0:\n",
    "        median = (sortedlist[l//2] + sortedlist[(l//2)+1])//2\n",
    "        return median\n",
    "    else:\n",
    "        median = sortedlist[(l+1)//2]\n",
    "        return median"
   ]
  },
  {
   "cell_type": "code",
   "execution_count": 160,
   "id": "cf5f0d88",
   "metadata": {},
   "outputs": [],
   "source": [
    "def variance(list):\n",
    "    ps=0\n",
    "    for i in range(0,281):\n",
    "        ps = ps + (mean(list)-list[i])**2\n",
    "    variance = (ps)/(281)\n",
    "    return variance"
   ]
  },
  {
   "cell_type": "code",
   "execution_count": 161,
   "id": "b0d3b339",
   "metadata": {},
   "outputs": [],
   "source": [
    "def standard_deviation(list):\n",
    "\n",
    "    sd = math.sqrt(variance(list))\n",
    "    return sd"
   ]
  },
  {
   "cell_type": "code",
   "execution_count": 162,
   "id": "6b74cf33",
   "metadata": {},
   "outputs": [],
   "source": [
    "def geometric_mean(list):\n",
    "    l = len(list)\n",
    "    gm = 1\n",
    "    for i in range(0,281):\n",
    "        gm = gm*(list[i])**(1/l)\n",
    "    return gm"
   ]
  },
  {
   "cell_type": "code",
   "execution_count": 163,
   "id": "2a3b1ae5",
   "metadata": {},
   "outputs": [],
   "source": [
    "def harmonic_mean(list):\n",
    "    l = len(list)\n",
    "    sum = 0\n",
    "    for i in range(0,281):\n",
    "        sum = sum + 1/list[i]\n",
    "    hm = l/sum\n",
    "    return hm"
   ]
  },
  {
   "cell_type": "code",
   "execution_count": 164,
   "id": "9bd191f2",
   "metadata": {},
   "outputs": [],
   "source": [
    "def covariance(list1,list2):\n",
    "    prodsum=0\n",
    "    for i in range(0,281):\n",
    "        prodsum = prodsum + (mean(list1)-list1[i])*(mean(list2)-list2[i])\n",
    "    covariance = prodsum/(281-1)\n",
    "    return covariance"
   ]
  },
  {
   "cell_type": "code",
   "execution_count": 165,
   "id": "f5c29404",
   "metadata": {},
   "outputs": [],
   "source": [
    "def correlation(list1,list2):\n",
    "    correlation = covariance(list1,list2)/ (standard_deviation(list1)*standard_deviation(list2))\n",
    "    return correlation"
   ]
  },
  {
   "cell_type": "markdown",
   "id": "6cea0972",
   "metadata": {},
   "source": [
    "-------------------Function Calling-------------------------------"
   ]
  },
  {
   "cell_type": "code",
   "execution_count": 166,
   "id": "35b784b3",
   "metadata": {},
   "outputs": [
    {
     "name": "stdout",
     "output_type": "stream",
     "text": [
      "1 --------> Mean\n",
      "2 --------> Median\n",
      "3 --------> Variance\n",
      "4 --------> Standard Deviation\n",
      "5 --------> Geometric Mean\n",
      "6 --------> Harmonic Mean\n",
      "7 --------> Covariance\n",
      "8 --------> Correlation\n",
      " \n",
      "Enter your choice 1\n"
     ]
    }
   ],
   "source": [
    "#Menu\n",
    "print(\"1 --------> Mean\")\n",
    "print(\"2 --------> Median\")\n",
    "print(\"3 --------> Variance\")\n",
    "print(\"4 --------> Standard Deviation\")\n",
    "print(\"5 --------> Geometric Mean\")\n",
    "print(\"6 --------> Harmonic Mean\")\n",
    "print(\"7 --------> Covariance\")\n",
    "print(\"8 --------> Correlation\")\n",
    "print(\" \")\n",
    "choice = int(input(\"Enter your choice \"))"
   ]
  },
  {
   "cell_type": "code",
   "execution_count": 167,
   "id": "1c7f9b26",
   "metadata": {},
   "outputs": [
    {
     "name": "stdout",
     "output_type": "stream",
     "text": [
      "---------------------------------------------\n",
      "Mean using Program!\n",
      "---------------------------------------------\n",
      "Mean of the first coloumn is:  212.72953736654804\n",
      "Mean of the second coloumn is:  136.3238434163701\n",
      " \n",
      "---------------------------------------------\n",
      "Mean using Inbuilt functions!\n",
      "---------------------------------------------\n",
      "Mean of the first coloumn is:  212.72953736654804\n",
      "Mean of the second coloumn is:  136.3238434163701\n"
     ]
    }
   ],
   "source": [
    "if choice == 1:\n",
    "    print(\"---------------------------------------------\")\n",
    "    print(\"Mean using Program!\")\n",
    "    print(\"---------------------------------------------\")\n",
    "    print(\"Mean of the first coloumn is: \",mean(list1))\n",
    "    print(\"Mean of the second coloumn is: \",mean(list2))\n",
    "    print(\" \")\n",
    "    print(\"---------------------------------------------\")\n",
    "    print(\"Mean using Inbuilt functions!\")\n",
    "    print(\"---------------------------------------------\")\n",
    "    print(\"Mean of the first coloumn is: \",np.mean(list1))\n",
    "    print(\"Mean of the second coloumn is: \",np.mean(list2))\n",
    "    \n",
    "elif choice == 2:\n",
    "    print(\"---------------------------------------------\")\n",
    "    print(\"Median using Program!\")\n",
    "    print(\"---------------------------------------------\")\n",
    "    print(\"Median of the first coloumn is: \",median(list1))\n",
    "    print(\"Median of the second coloumn is: \",median(list2))\n",
    "    print(\" \")\n",
    "    print(\"---------------------------------------------\")\n",
    "    print(\"Median using Inbuilt functions!\")\n",
    "    print(\"---------------------------------------------\")\n",
    "    print(\"Median of the first coloumn is: \",np.median(list1))\n",
    "    print(\"Median of the second coloumn is: \",np.median(list2))\n",
    "    \n",
    "elif choice == 3:\n",
    "    print(\"---------------------------------------------\")\n",
    "    print(\"Variance using Program!\")\n",
    "    print(\"---------------------------------------------\")\n",
    "    print(\"Variance of the first coloumn is: \",variance(list1))\n",
    "    print(\"Variance of the second coloumn is: \",variance(list2))\n",
    "    print(\" \")\n",
    "    print(\"---------------------------------------------\")\n",
    "    print(\"Variance using Inbuilt functions!\")\n",
    "    print(\"---------------------------------------------\")\n",
    "    print(\"Variance of the first coloumn is: \",np.var(list1))\n",
    "    print(\"Variance of the second coloumn is: \",np.var(list2))\n",
    "    \n",
    "elif choice == 4:\n",
    "    print(\"---------------------------------------------\")\n",
    "    print(\"Standard Deviation using Program!\")\n",
    "    print(\"---------------------------------------------\")\n",
    "    print(\"Standard deviation of the first coloumn is: \",standard_deviation(list1))\n",
    "    print(\"Standard deviation of the second coloumn is: \",standard_deviation(list2))\n",
    "    print(\" \")\n",
    "    print(\"---------------------------------------------\")\n",
    "    print(\"Standard Deviation using Inbuilt functions!\")\n",
    "    print(\"---------------------------------------------\")\n",
    "    print(\"Standard deviation of the first coloumn is: \",np.std(list1))\n",
    "    print(\"Standard deviation of the second coloumn is: \",np.std(list2))\n",
    "    \n",
    "elif choice == 5:\n",
    "    print(\"---------------------------------------------\")\n",
    "    print(\"Geometric Mean using Program!\")\n",
    "    print(\"---------------------------------------------\")\n",
    "    print(\"Geometric Mean of the first coloumn is: \",geometric_mean(list1))\n",
    "    print(\"Geometric Mean of the second coloumn is: \",geometric_mean(list2))\n",
    "    print(\" \")\n",
    "    print(\"---------------------------------------------\")\n",
    "    print(\"Geometric Mean using Inbuilt functions!\")\n",
    "    print(\"---------------------------------------------\")\n",
    "    print(\"Geometric Mean of the first coloumn is: \",statistics.geometric_mean(list1))\n",
    "    print(\"Geometric Mean of the second coloumn is: \",statistics.geometric_mean(list2))\n",
    "    \n",
    "elif choice == 6:\n",
    "    print(\"---------------------------------------------\")\n",
    "    print(\"Harmonic Mean using Program!\")\n",
    "    print(\"---------------------------------------------\")\n",
    "    print(\"Harmonic Mean of the first coloumn is: \",harmonic_mean(list1))\n",
    "    print(\"Harmonic Mean of the second coloumn is: \",harmonic_mean(list2))\n",
    "    print(\" \")\n",
    "    print(\"---------------------------------------------\")\n",
    "    print(\"Harmonic Mean using Inbuilt functions!\")\n",
    "    print(\"---------------------------------------------\")\n",
    "    print(\"Harmonic Mean of the first coloumn is: \",statistics.harmonic_mean(list1))\n",
    "    print(\"Harmonic Mean of the second coloumn is: \",statistics.harmonic_mean(list2))\n",
    "    \n",
    "elif choice == 7:\n",
    "    print(\"---------------------------------------------\")\n",
    "    print(\"Covariance using Program!\")\n",
    "    print(\"---------------------------------------------\")\n",
    "    print(\"Covariance of the data is: \",covariance(list1,list2))\n",
    "    print(\" \")\n",
    "    print(\"---------------------------------------------\")\n",
    "    print(\"Covariance using Inbuilt functions!\")\n",
    "    print(\"---------------------------------------------\")\n",
    "    print(\"Covariance of the data is: \",np.cov(list1,list2))\n",
    "    \n",
    "elif choice == 8:\n",
    "    print(\"---------------------------------------------\")\n",
    "    print(\"Correlation using Program!\")\n",
    "    print(\"---------------------------------------------\")\n",
    "    print(\"Correlation of the data is: \",correlation(list1,list2))\n",
    "    print(\" \")\n",
    "    print(\"---------------------------------------------\")\n",
    "    print(\"Correlation using Inbuilt functions!\")\n",
    "    print(\"---------------------------------------------\")\n",
    "    print(\"Correlation of the data is: \",np.corrcoef(list1,list2))"
   ]
  },
  {
   "cell_type": "code",
   "execution_count": null,
   "id": "90f867f6",
   "metadata": {},
   "outputs": [],
   "source": []
  }
 ],
 "metadata": {
  "kernelspec": {
   "display_name": "Python 3",
   "language": "python",
   "name": "python3"
  }
 },
 "nbformat": 4,
 "nbformat_minor": 5
}
